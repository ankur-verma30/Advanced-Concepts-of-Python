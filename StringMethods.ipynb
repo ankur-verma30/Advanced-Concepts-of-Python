{
 "cells": [
  {
   "cell_type": "markdown",
   "id": "9281e12a-392d-4f05-bbd4-37507189419d",
   "metadata": {},
   "source": [
    "The function and String Methods\n"
   ]
  },
  {
   "cell_type": "code",
   "execution_count": 2,
   "id": "d1fa53e6-0f7d-45ad-90b4-f3afab5b7ae3",
   "metadata": {},
   "outputs": [
    {
     "name": "stdout",
     "output_type": "stream",
     "text": [
      "I am a boy, and  I like to code very much\n"
     ]
    }
   ],
   "source": [
    "A=\"     I am a boy, and  I like to code very much    \"\n",
    "b=A.strip()\n",
    "print(b) # removes the backspace from front and end of the string|"
   ]
  },
  {
   "cell_type": "code",
   "execution_count": 4,
   "id": "cab217d3-cbab-4748-a888-2c10fe86ec6f",
   "metadata": {},
   "outputs": [
    {
     "name": "stdout",
     "output_type": "stream",
     "text": [
      "     i am a boy, and  i like to code very much          I AM A BOY, AND  I LIKE TO CODE VERY MUCH    \n"
     ]
    }
   ],
   "source": [
    "c=A.lower();\n",
    "d=A.upper();\n",
    "print(c,d)"
   ]
  },
  {
   "cell_type": "code",
   "execution_count": 6,
   "id": "6b418030-b92a-434f-a721-009a46e8cd6a",
   "metadata": {},
   "outputs": [
    {
     "name": "stdout",
     "output_type": "stream",
     "text": [
      "     I am a girl, and  I like to code very much    \n"
     ]
    }
   ],
   "source": [
    "print(A.replace(\"boy\",\"girl\")) #every occurance of boy will be replaced by the girl"
   ]
  },
  {
   "cell_type": "code",
   "execution_count": 7,
   "id": "37ae4d09-2116-4976-a709-e489d3181c01",
   "metadata": {},
   "outputs": [
    {
     "name": "stdout",
     "output_type": "stream",
     "text": [
      "50\n"
     ]
    }
   ],
   "source": [
    "print(len(A))# gives the length of the string"
   ]
  },
  {
   "cell_type": "code",
   "execution_count": 9,
   "id": "57946192-f686-4ffd-9ca0-1611c8fbb5c8",
   "metadata": {},
   "outputs": [
    {
     "name": "stdout",
     "output_type": "stream",
     "text": [
      "['', '', ' I am a boy, and', 'I like to code very much', '', '']\n"
     ]
    }
   ],
   "source": [
    "print(A.split(\"  \")) #split the string when the condition mataches inside the brackets of the split function and returns the list"
   ]
  },
  {
   "cell_type": "code",
   "execution_count": 12,
   "id": "9b21481c-e696-40bc-9f8f-fef12c75cc1a",
   "metadata": {},
   "outputs": [
    {
     "name": "stdout",
     "output_type": "stream",
     "text": [
      "5\n"
     ]
    }
   ],
   "source": [
    "print(A.count('  ')) # count the occurance of any string in A"
   ]
  },
  {
   "cell_type": "code",
   "execution_count": null,
   "id": "d2051b43-7511-46f2-8038-81e6cf141b46",
   "metadata": {},
   "outputs": [],
   "source": []
  }
 ],
 "metadata": {
  "kernelspec": {
   "display_name": "Python 3 (ipykernel)",
   "language": "python",
   "name": "python3"
  },
  "language_info": {
   "codemirror_mode": {
    "name": "ipython",
    "version": 3
   },
   "file_extension": ".py",
   "mimetype": "text/x-python",
   "name": "python",
   "nbconvert_exporter": "python",
   "pygments_lexer": "ipython3",
   "version": "3.11.7"
  }
 },
 "nbformat": 4,
 "nbformat_minor": 5
}
