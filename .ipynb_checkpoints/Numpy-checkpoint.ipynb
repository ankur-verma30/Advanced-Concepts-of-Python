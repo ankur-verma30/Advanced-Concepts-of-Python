{
 "cells": [
  {
   "cell_type": "markdown",
   "id": "70a4dd0b-f91e-47d4-acbf-ad090dc5c3b8",
   "metadata": {},
   "source": [
    "Introduction to Numpy\n"
   ]
  },
  {
   "cell_type": "code",
   "execution_count": 2,
   "id": "f8e6b7c4-60eb-4f5e-9ed2-a8574b5fcd56",
   "metadata": {},
   "outputs": [
    {
     "name": "stdout",
     "output_type": "stream",
     "text": [
      "[1 2 3 4 5]\n",
      "[1 2 3 4 5]\n"
     ]
    }
   ],
   "source": [
    "import numpy as np\n",
    "a=np.array([1,2,3,4,5])\n",
    "b=np.array((1,2,3,4,5))\n",
    "\n",
    "print(a)\n",
    "print(b)"
   ]
  },
  {
   "cell_type": "code",
   "execution_count": 3,
   "id": "b07e8c20-3e33-4549-a21f-f64dd91bad95",
   "metadata": {},
   "outputs": [
    {
     "name": "stdout",
     "output_type": "stream",
     "text": [
      "<class 'numpy.ndarray'>\n"
     ]
    }
   ],
   "source": [
    "print(type(a))"
   ]
  },
  {
   "cell_type": "code",
   "execution_count": 4,
   "id": "9b3f9ebc-cdad-4943-9c1d-6c861532a81b",
   "metadata": {},
   "outputs": [
    {
     "name": "stdout",
     "output_type": "stream",
     "text": [
      "2\n"
     ]
    }
   ],
   "source": [
    "c=np.array([[1,2,3],[2,3,4]])\n",
    "print(c.ndim)"
   ]
  },
  {
   "cell_type": "code",
   "execution_count": 7,
   "id": "ccb860ab-f103-4ead-a444-d10ac901cbf8",
   "metadata": {},
   "outputs": [],
   "source": [
    "d=np.array([[[1,2,3],[4,5,6]],[[3,4,5],[6,7,8]]])"
   ]
  },
  {
   "cell_type": "code",
   "execution_count": 8,
   "id": "abce68db-7483-4acb-af0a-891bd1ac0faa",
   "metadata": {},
   "outputs": [
    {
     "name": "stdout",
     "output_type": "stream",
     "text": [
      "2 2 3\n"
     ]
    }
   ],
   "source": [
    "print(d.shape[0],d.shape[1],d.shape[2])"
   ]
  },
  {
   "cell_type": "code",
   "execution_count": 12,
   "id": "c2546408-489a-4949-ad9a-97c4ad7c955a",
   "metadata": {},
   "outputs": [
    {
     "name": "stdout",
     "output_type": "stream",
     "text": [
      "5\n"
     ]
    }
   ],
   "source": [
    "print(d[1,0,2])\n"
   ]
  },
  {
   "cell_type": "code",
   "execution_count": 13,
   "id": "1b46a38c-58b3-483c-b983-d3afbc98ecaa",
   "metadata": {},
   "outputs": [
    {
     "data": {
      "text/plain": [
       "12"
      ]
     },
     "execution_count": 13,
     "metadata": {},
     "output_type": "execute_result"
    }
   ],
   "source": [
    "d.size  #this give the number of elements present in the array"
   ]
  },
  {
   "cell_type": "code",
   "execution_count": 15,
   "id": "d09aeac3-54e7-4c10-b1cd-bacba5e2db3a",
   "metadata": {},
   "outputs": [
    {
     "data": {
      "text/plain": [
       "48"
      ]
     },
     "execution_count": 15,
     "metadata": {},
     "output_type": "execute_result"
    }
   ],
   "source": [
    "d.nbytes #hence each of the integer takes 4 bytes so total 12*4"
   ]
  },
  {
   "cell_type": "code",
   "execution_count": 21,
   "id": "86825a24-78fa-4580-ac27-f62f8f733936",
   "metadata": {},
   "outputs": [
    {
     "name": "stdout",
     "output_type": "stream",
     "text": [
      "[0 1 2 3 4 5 6 7 8 9]\n"
     ]
    }
   ],
   "source": [
    "\n",
    "A=np.arange(10)\n",
    "print(A)"
   ]
  },
  {
   "cell_type": "code",
   "execution_count": null,
   "id": "46388670-a9cd-4fc9-afc9-d3e977aae4e8",
   "metadata": {},
   "outputs": [],
   "source": []
  }
 ],
 "metadata": {
  "kernelspec": {
   "display_name": "Python 3 (ipykernel)",
   "language": "python",
   "name": "python3"
  },
  "language_info": {
   "codemirror_mode": {
    "name": "ipython",
    "version": 3
   },
   "file_extension": ".py",
   "mimetype": "text/x-python",
   "name": "python",
   "nbconvert_exporter": "python",
   "pygments_lexer": "ipython3",
   "version": "3.11.7"
  }
 },
 "nbformat": 4,
 "nbformat_minor": 5
}
