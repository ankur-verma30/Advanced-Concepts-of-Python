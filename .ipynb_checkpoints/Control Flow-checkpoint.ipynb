{
 "cells": [
  {
   "cell_type": "markdown",
   "id": "a1043c2c-7010-4cd6-a492-af0c4ea6dffe",
   "metadata": {},
   "source": [
    "#If else control flow"
   ]
  },
  {
   "cell_type": "code",
   "execution_count": 4,
   "id": "716a6da0-e8b3-457e-bab9-bc9a55e7e375",
   "metadata": {},
   "outputs": [
    {
     "name": "stdin",
     "output_type": "stream",
     "text": [
      "Enter the number -10.7\n"
     ]
    },
    {
     "name": "stdout",
     "output_type": "stream",
     "text": [
      "The Resultant number is -10\n",
      "The number is even\n"
     ]
    }
   ],
   "source": [
    "x=float(input(\"Enter the number\"))\n",
    "y=round(x)\n",
    "Result=0\n",
    "if y>0:\n",
    "    if y>x:\n",
    "        Result=y-1\n",
    "    else:\n",
    "        Result=y\n",
    "else:\n",
    "    if y<x:\n",
    "        Result=y+1\n",
    "    else:\n",
    "        Result=y\n",
    "print(\"The Resultant number is \"+str(Result))        \n",
    "if Result %2==0:\n",
    "    print(\"The number is even\")\n",
    "else:\n",
    "    print(\"The number is odd\")"
   ]
  },
  {
   "cell_type": "markdown",
   "id": "fe70ee8c-01ab-4da3-a7d6-a63d48501d4d",
   "metadata": {},
   "source": [
    "\n",
    "#Loops"
   ]
  },
  {
   "cell_type": "code",
   "execution_count": 1,
   "id": "8e9d0f02-fcd5-4ce6-8ab2-36ed32bfc65b",
   "metadata": {},
   "outputs": [
    {
     "name": "stdout",
     "output_type": "stream",
     "text": [
      "2\n",
      "4\n",
      "6\n",
      "8\n",
      "10\n",
      "12\n",
      "14\n",
      "16\n",
      "18\n",
      "20\n",
      "Done\n"
     ]
    }
   ],
   "source": [
    "n=20\n",
    "i=2\n",
    "while i<=n:\n",
    "    print(i)\n",
    "    i+=2\n",
    "print(\"Done\")    "
   ]
  },
  {
   "cell_type": "code",
   "execution_count": 1,
   "id": "2116f7eb-de59-4422-b1a4-b1341aae66ee",
   "metadata": {},
   "outputs": [
    {
     "name": "stdout",
     "output_type": "stream",
     "text": [
      "3\n",
      "5\n",
      "7\n",
      "9\n"
     ]
    }
   ],
   "source": [
    "n=10\n",
    "i=1\n",
    "while i<n:\n",
    "    if i%2==0:\n",
    "        i+=1\n",
    "        print(i)\n",
    "    elif i%3==0:\n",
    "        continue\n",
    "    i+=1"
   ]
  },
  {
   "cell_type": "code",
   "execution_count": 2,
   "id": "f7ac63ed-c990-4ca6-bd0b-892a67a93e8e",
   "metadata": {},
   "outputs": [
    {
     "name": "stdout",
     "output_type": "stream",
     "text": [
      "1\n",
      "2\n",
      "3\n",
      "4\n",
      "5\n",
      "6\n",
      "7\n",
      "8\n",
      "9\n",
      "10\n"
     ]
    }
   ],
   "source": [
    "L=[]\n",
    "for i in range(10):\n",
    "    print(i+1)\n",
    "    L.append(i**2)"
   ]
  },
  {
   "cell_type": "code",
   "execution_count": 3,
   "id": "7b09c30b-5393-46c5-94c4-e6b9caceac13",
   "metadata": {},
   "outputs": [
    {
     "name": "stdout",
     "output_type": "stream",
     "text": [
      "[0, 1, 4, 9, 16, 25, 36, 49, 64, 81]\n"
     ]
    }
   ],
   "source": [
    "print(L)"
   ]
  },
  {
   "cell_type": "code",
   "execution_count": 4,
   "id": "434d6e80-f619-4175-8442-efb057dcafbc",
   "metadata": {},
   "outputs": [
    {
     "name": "stdout",
     "output_type": "stream",
     "text": [
      "Cherry\n",
      "apple\n",
      "4.9\n",
      "Loop completes the iterations\n"
     ]
    }
   ],
   "source": [
    "S={\"apple\",4.9,\"Cherry\"}\n",
    "for x in S:\n",
    "    print(x)\n",
    "else:\n",
    "    print(\"Loop completes the iterations\")"
   ]
  },
  {
   "cell_type": "code",
   "execution_count": 5,
   "id": "34c7abfa-2fd4-4b4c-acdc-9201220ec9ef",
   "metadata": {},
   "outputs": [],
   "source": [
    "def printMessage(msg):\n",
    "    if isinstance(msg,str):\n",
    "        print(msg)\n",
    "    else:\n",
    "        print(\"Your input is not a string\")\n",
    "        print(\"the type of your input is : \",type(msg))"
   ]
  },
  {
   "cell_type": "code",
   "execution_count": 6,
   "id": "f0150e71-4427-4e34-81c8-e116b7241d7c",
   "metadata": {},
   "outputs": [
    {
     "name": "stdout",
     "output_type": "stream",
     "text": [
      "Hello World!\n"
     ]
    }
   ],
   "source": [
    "printMessage(\"Hello World!\")"
   ]
  },
  {
   "cell_type": "code",
   "execution_count": 7,
   "id": "d551f6bb-3d01-4525-9f12-7e8c4639240c",
   "metadata": {},
   "outputs": [
    {
     "name": "stdout",
     "output_type": "stream",
     "text": [
      "Your input is not a string\n",
      "the type of your input is :  <class 'int'>\n"
     ]
    }
   ],
   "source": [
    "printMessage(23)"
   ]
  },
  {
   "cell_type": "code",
   "execution_count": null,
   "id": "2c213a74-cffc-4462-975a-4ab9abd71120",
   "metadata": {},
   "outputs": [],
   "source": []
  }
 ],
 "metadata": {
  "kernelspec": {
   "display_name": "Python 3 (ipykernel)",
   "language": "python",
   "name": "python3"
  },
  "language_info": {
   "codemirror_mode": {
    "name": "ipython",
    "version": 3
   },
   "file_extension": ".py",
   "mimetype": "text/x-python",
   "name": "python",
   "nbconvert_exporter": "python",
   "pygments_lexer": "ipython3",
   "version": "3.11.7"
  }
 },
 "nbformat": 4,
 "nbformat_minor": 5
}
