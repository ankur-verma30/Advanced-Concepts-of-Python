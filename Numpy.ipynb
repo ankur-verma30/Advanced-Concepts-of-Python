{
 "cells": [
  {
   "cell_type": "markdown",
   "id": "70a4dd0b-f91e-47d4-acbf-ad090dc5c3b8",
   "metadata": {},
   "source": [
    "Introduction to Numpy\n"
   ]
  },
  {
   "cell_type": "code",
   "execution_count": 2,
   "id": "f8e6b7c4-60eb-4f5e-9ed2-a8574b5fcd56",
   "metadata": {},
   "outputs": [
    {
     "name": "stdout",
     "output_type": "stream",
     "text": [
      "[1 2 3 4 5]\n",
      "[1 2 3 4 5]\n"
     ]
    }
   ],
   "source": [
    "import numpy as np\n",
    "a=np.array([1,2,3,4,5])\n",
    "b=np.array((1,2,3,4,5))\n",
    "\n",
    "print(a)\n",
    "print(b)"
   ]
  },
  {
   "cell_type": "code",
   "execution_count": 3,
   "id": "b07e8c20-3e33-4549-a21f-f64dd91bad95",
   "metadata": {},
   "outputs": [
    {
     "name": "stdout",
     "output_type": "stream",
     "text": [
      "<class 'numpy.ndarray'>\n"
     ]
    }
   ],
   "source": [
    "print(type(a))"
   ]
  },
  {
   "cell_type": "code",
   "execution_count": 4,
   "id": "9b3f9ebc-cdad-4943-9c1d-6c861532a81b",
   "metadata": {},
   "outputs": [
    {
     "name": "stdout",
     "output_type": "stream",
     "text": [
      "2\n"
     ]
    }
   ],
   "source": [
    "c=np.array([[1,2,3],[2,3,4]])\n",
    "print(c.ndim)"
   ]
  },
  {
   "cell_type": "code",
   "execution_count": 7,
   "id": "ccb860ab-f103-4ead-a444-d10ac901cbf8",
   "metadata": {},
   "outputs": [],
   "source": [
    "d=np.array([[[1,2,3],[4,5,6]],[[3,4,5],[6,7,8]]])"
   ]
  },
  {
   "cell_type": "code",
   "execution_count": 8,
   "id": "abce68db-7483-4acb-af0a-891bd1ac0faa",
   "metadata": {},
   "outputs": [
    {
     "name": "stdout",
     "output_type": "stream",
     "text": [
      "2 2 3\n"
     ]
    }
   ],
   "source": [
    "print(d.shape[0],d.shape[1],d.shape[2])"
   ]
  },
  {
   "cell_type": "code",
   "execution_count": 12,
   "id": "c2546408-489a-4949-ad9a-97c4ad7c955a",
   "metadata": {},
   "outputs": [
    {
     "name": "stdout",
     "output_type": "stream",
     "text": [
      "5\n"
     ]
    }
   ],
   "source": [
    "print(d[1,0,2])\n"
   ]
  },
  {
   "cell_type": "code",
   "execution_count": 13,
   "id": "1b46a38c-58b3-483c-b983-d3afbc98ecaa",
   "metadata": {},
   "outputs": [
    {
     "data": {
      "text/plain": [
       "12"
      ]
     },
     "execution_count": 13,
     "metadata": {},
     "output_type": "execute_result"
    }
   ],
   "source": [
    "d.size  #this give the number of elements present in the array"
   ]
  },
  {
   "cell_type": "code",
   "execution_count": 15,
   "id": "d09aeac3-54e7-4c10-b1cd-bacba5e2db3a",
   "metadata": {},
   "outputs": [
    {
     "data": {
      "text/plain": [
       "48"
      ]
     },
     "execution_count": 15,
     "metadata": {},
     "output_type": "execute_result"
    }
   ],
   "source": [
    "d.nbytes #hence each of the integer takes 4 bytes so total 12*4"
   ]
  },
  {
   "cell_type": "code",
   "execution_count": 21,
   "id": "86825a24-78fa-4580-ac27-f62f8f733936",
   "metadata": {},
   "outputs": [
    {
     "name": "stdout",
     "output_type": "stream",
     "text": [
      "[0 1 2 3 4 5 6 7 8 9]\n"
     ]
    }
   ],
   "source": [
    "\n",
    "A=np.arange(10)\n",
    "print(A)"
   ]
  },
  {
   "cell_type": "code",
   "execution_count": 1,
   "id": "46388670-a9cd-4fc9-afc9-d3e977aae4e8",
   "metadata": {},
   "outputs": [
    {
     "name": "stdout",
     "output_type": "stream",
     "text": [
      "range(0, 10)\n",
      "[0, 1, 2, 3, 4, 5, 6, 7, 8, 9]\n"
     ]
    }
   ],
   "source": [
    "print(range(10)) #does not gonna generate the list from 0 to 9\n",
    "print(list(range(10)))  # this will print the list from 0 to 9"
   ]
  },
  {
   "cell_type": "code",
   "execution_count": 4,
   "id": "5f222388-0324-4adb-b10b-f3ecc00933d2",
   "metadata": {},
   "outputs": [
    {
     "name": "stdout",
     "output_type": "stream",
     "text": [
      "[2 8 0 9 5 6 4 1 7 3]\n"
     ]
    }
   ],
   "source": [
    "print(np.random.permutation(np.arange(10)))  #print the list of 0 to 9 in random permutated manner"
   ]
  },
  {
   "cell_type": "code",
   "execution_count": 12,
   "id": "9309985b-86f9-4706-bd4e-63cd76ecb5c7",
   "metadata": {},
   "outputs": [
    {
     "name": "stdout",
     "output_type": "stream",
     "text": [
      "22\n"
     ]
    }
   ],
   "source": [
    "#For creating any random integer withing the range of number we use randint\n",
    "randomVal=np.random.randint(20,30)\n",
    "print(randomVal)"
   ]
  },
  {
   "cell_type": "code",
   "execution_count": 11,
   "id": "69360563-3120-4c52-8813-2354d904989b",
   "metadata": {},
   "outputs": [
    {
     "name": "stdout",
     "output_type": "stream",
     "text": [
      "<class 'int'>\n"
     ]
    }
   ],
   "source": [
    "print(type(randomVal))"
   ]
  },
  {
   "cell_type": "code",
   "execution_count": 28,
   "id": "92fc5b17-1590-4e38-b0b1-67189e975d7f",
   "metadata": {},
   "outputs": [],
   "source": [
    "Mat=np.random.rand(100)"
   ]
  },
  {
   "cell_type": "code",
   "execution_count": 29,
   "id": "5d2f096a-b54e-40fa-a730-3288325546a3",
   "metadata": {},
   "outputs": [
    {
     "name": "stdout",
     "output_type": "stream",
     "text": [
      "[0.28736525 0.57408156 0.49617053 0.34876797 0.87773434 0.93291309\n",
      " 0.15134951 0.37675235 0.4872802  0.56958136 0.59206655 0.09792425\n",
      " 0.93778506 0.30870957 0.01147062 0.72517526 0.19908132 0.0105452\n",
      " 0.95288869 0.09923111 0.29112515 0.36095304 0.82566761 0.44203212\n",
      " 0.62675128 0.45525424 0.60065524 0.7057214  0.04371214 0.82820355\n",
      " 0.59476775 0.07309303 0.74089765 0.9707396  0.81325237 0.49340953\n",
      " 0.82278525 0.8723746  0.88186029 0.18367242 0.89180305 0.56892056\n",
      " 0.42598175 0.43476848 0.99593551 0.47207484 0.17973484 0.01231257\n",
      " 0.98165695 0.330695   0.4604797  0.46132696 0.26024377 0.07821736\n",
      " 0.46278789 0.45205752 0.60227432 0.88175563 0.26773692 0.34450355\n",
      " 0.34719759 0.95117212 0.62882137 0.10142867 0.73935644 0.82738604\n",
      " 0.53392266 0.52030428 0.10027981 0.9087914  0.65668152 0.90208591\n",
      " 0.50521549 0.21967332 0.60671044 0.44302227 0.17669343 0.30244732\n",
      " 0.42123148 0.44881726 0.80235288 0.72449656 0.76854407 0.41786123\n",
      " 0.17623478 0.99954228 0.23201192 0.55516117 0.23940793 0.77073756\n",
      " 0.25005134 0.17182812 0.57123254 0.1713497  0.55257363 0.92509478\n",
      " 0.23456762 0.62186009 0.64282148 0.74845173]\n"
     ]
    }
   ],
   "source": [
    "print(Mat)"
   ]
  },
  {
   "cell_type": "code",
   "execution_count": 30,
   "id": "b8ace8bf-dcc5-44c8-87a5-cee7a466769e",
   "metadata": {},
   "outputs": [
    {
     "data": {
      "text/plain": [
       "(array([3., 0., 0., 1., 0., 0., 2., 0., 2., 2., 0., 0., 0., 0., 1., 0., 4.,\n",
       "        2., 0., 1., 0., 1., 2., 1., 1., 1., 1., 1., 1., 1., 1., 0., 1., 1.,\n",
       "        2., 1., 0., 1., 0., 0., 0., 2., 2., 2., 3., 3., 1., 0., 2., 1., 1.,\n",
       "        1., 1., 0., 1., 1., 4., 0., 1., 3., 1., 1., 2., 1., 0., 1., 0., 0.,\n",
       "        0., 0., 1., 0., 2., 2., 1., 0., 2., 0., 0., 0., 1., 1., 4., 0., 0.,\n",
       "        0., 0., 2., 2., 1., 2., 0., 1., 2., 0., 2., 0., 1., 1., 2.]),\n",
       " array([0.0105452 , 0.02043517, 0.03032514, 0.04021512, 0.05010509,\n",
       "        0.05999506, 0.06988503, 0.079775  , 0.08966497, 0.09955494,\n",
       "        0.10944491, 0.11933488, 0.12922485, 0.13911482, 0.14900479,\n",
       "        0.15889476, 0.16878474, 0.17867471, 0.18856468, 0.19845465,\n",
       "        0.20834462, 0.21823459, 0.22812456, 0.23801453, 0.2479045 ,\n",
       "        0.25779447, 0.26768444, 0.27757441, 0.28746439, 0.29735436,\n",
       "        0.30724433, 0.3171343 , 0.32702427, 0.33691424, 0.34680421,\n",
       "        0.35669418, 0.36658415, 0.37647412, 0.38636409, 0.39625406,\n",
       "        0.40614404, 0.41603401, 0.42592398, 0.43581395, 0.44570392,\n",
       "        0.45559389, 0.46548386, 0.47537383, 0.4852638 , 0.49515377,\n",
       "        0.50504374, 0.51493371, 0.52482369, 0.53471366, 0.54460363,\n",
       "        0.5544936 , 0.56438357, 0.57427354, 0.58416351, 0.59405348,\n",
       "        0.60394345, 0.61383342, 0.62372339, 0.63361336, 0.64350333,\n",
       "        0.65339331, 0.66328328, 0.67317325, 0.68306322, 0.69295319,\n",
       "        0.70284316, 0.71273313, 0.7226231 , 0.73251307, 0.74240304,\n",
       "        0.75229301, 0.76218298, 0.77207296, 0.78196293, 0.7918529 ,\n",
       "        0.80174287, 0.81163284, 0.82152281, 0.83141278, 0.84130275,\n",
       "        0.85119272, 0.86108269, 0.87097266, 0.88086263, 0.89075261,\n",
       "        0.90064258, 0.91053255, 0.92042252, 0.93031249, 0.94020246,\n",
       "        0.95009243, 0.9599824 , 0.96987237, 0.97976234, 0.98965231,\n",
       "        0.99954228]),\n",
       " <BarContainer object of 100 artists>)"
      ]
     },
     "execution_count": 30,
     "metadata": {},
     "output_type": "execute_result"
    },
    {
     "data": {
      "image/png": "[encoded data removed]",
      "text/plain": [
       "<Figure size 640x480 with 1 Axes>"
      ]
     },
     "metadata": {},
     "output_type": "display_data"
    }
   ],
   "source": [
    "import matplotlib.pyplot as plt\n",
    "plt.hist(Mat,bins=100)"
   ]
  },
  {
   "cell_type": "code",
   "execution_count": 31,
   "id": "5fb2efa6-7989-46df-b0b7-6a35053390dc",
   "metadata": {},
   "outputs": [],
   "source": [
    "c=np.random.rand(2,5)"
   ]
  },
  {
   "cell_type": "code",
   "execution_count": 32,
   "id": "b8430988-2f89-4aca-aa10-df3103e41dae",
   "metadata": {},
   "outputs": [
    {
     "name": "stdout",
     "output_type": "stream",
     "text": [
      "[[0.967688   0.3396378  0.49672735 0.94438672 0.74364275]\n",
      " [0.10709875 0.50378675 0.42078481 0.49173248 0.98013763]]\n"
     ]
    }
   ],
   "source": [
    "print(c)"
   ]
  },
  {
   "cell_type": "code",
   "execution_count": 33,
   "id": "5cb6a040-9927-410e-9cad-c04f2772f361",
   "metadata": {},
   "outputs": [
    {
     "data": {
      "text/plain": [
       "2"
      ]
     },
     "execution_count": 33,
     "metadata": {},
     "output_type": "execute_result"
    }
   ],
   "source": [
    "c.ndim"
   ]
  },
  {
   "cell_type": "code",
   "execution_count": 34,
   "id": "b6e86cd1-dff3-4a30-8bfd-34f9981644ab",
   "metadata": {},
   "outputs": [
    {
     "name": "stdout",
     "output_type": "stream",
     "text": [
      "[[[[0.39682988 0.82677237]\n",
      "   [0.31050876 0.24505225]\n",
      "   [0.3427591  0.40317873]]\n",
      "\n",
      "  [[0.19798246 0.98775883]\n",
      "   [0.62326117 0.6433833 ]\n",
      "   [0.6872354  0.10030419]]\n",
      "\n",
      "  [[0.41148837 0.03553254]\n",
      "   [0.02907596 0.30547315]\n",
      "   [0.40861125 0.67953852]]\n",
      "\n",
      "  [[0.35995649 0.6789218 ]\n",
      "   [0.49393915 0.48461614]\n",
      "   [0.6152659  0.71347745]]]\n",
      "\n",
      "\n",
      " [[[0.59143973 0.55965851]\n",
      "   [0.78936776 0.66504807]\n",
      "   [0.15729835 0.01137418]]\n",
      "\n",
      "  [[0.34393527 0.04729644]\n",
      "   [0.50878219 0.89353996]\n",
      "   [0.42953514 0.17192132]]\n",
      "\n",
      "  [[0.31320192 0.35850598]\n",
      "   [0.72949791 0.41651307]\n",
      "   [0.70152498 0.76213705]]\n",
      "\n",
      "  [[0.15281703 0.46796457]\n",
      "   [0.39419491 0.30392655]\n",
      "   [0.93839901 0.16360584]]]]\n"
     ]
    }
   ],
   "source": [
    "C=np.random.rand(2,4,3,2) #this is the 4 dimension array it can be read as 4D matrix that has 2 3-Dimensional arrays, each 3-D array contains 4 2-D arrays\n",
    "#each 2-D array contains 3 1-D arrays and each 1-D array has 2 elements\n",
    "print(C)"
   ]
  },
  {
   "cell_type": "code",
   "execution_count": 5,
   "id": "2e420fce-2644-4b44-9688-53e20aab9c97",
   "metadata": {},
   "outputs": [
    {
     "name": "stdout",
     "output_type": "stream",
     "text": [
      "[[ 0  1  2  3  4  5  6  7  8  9]\n",
      " [10 11 12 13 14 15 16 17 18 19]\n",
      " [20 21 22 23 24 25 26 27 28 29]\n",
      " [30 31 32 33 34 35 36 37 38 39]\n",
      " [40 41 42 43 44 45 46 47 48 49]]\n"
     ]
    }
   ],
   "source": [
    "D=np.arange(50).reshape(5,10) #hence 2D array of 5 rows and 10 columns can make more dimensional array by increasing parameter\n",
    "print(D)"
   ]
  },
  {
   "cell_type": "code",
   "execution_count": 37,
   "id": "37d3aa29-8b10-4780-b09f-7090f952f367",
   "metadata": {},
   "outputs": [
    {
     "data": {
      "text/plain": [
       "(5, 10)"
      ]
     },
     "execution_count": 37,
     "metadata": {},
     "output_type": "execute_result"
    }
   ],
   "source": [
    "D.shape  #it gives the dimensions about the matrix\n"
   ]
  },
  {
   "cell_type": "code",
   "execution_count": 4,
   "id": "c2416aff-ef66-4925-ab31-5f2e00598fd6",
   "metadata": {},
   "outputs": [],
   "source": [
    "import numpy as np"
   ]
  },
  {
   "cell_type": "code",
   "execution_count": 6,
   "id": "6bb0a98d-0b7e-4711-b6f7-cfefe9b188e2",
   "metadata": {},
   "outputs": [
    {
     "name": "stdout",
     "output_type": "stream",
     "text": [
      "[[ 0  1  2  3  4  5  6  7  8  9]\n",
      " [10 11 12 13 14 15 16 17 18 19]\n",
      " [20 21 22 23 24 25 26 27 28 29]\n",
      " [30 31 32 33 34 35 36 37 38 39]\n",
      " [40 41 42 43 44 45 46 47 48 49]]\n"
     ]
    }
   ],
   "source": [
    "print(D)"
   ]
  },
  {
   "cell_type": "code",
   "execution_count": 7,
   "id": "024eb3aa-cab1-493a-9afe-e0f1deec136c",
   "metadata": {},
   "outputs": [
    {
     "data": {
      "text/plain": [
       "array([[ 0, 10, 20, 30, 40],\n",
       "       [ 1, 11, 21, 31, 41],\n",
       "       [ 2, 12, 22, 32, 42],\n",
       "       [ 3, 13, 23, 33, 43],\n",
       "       [ 4, 14, 24, 34, 44],\n",
       "       [ 5, 15, 25, 35, 45],\n",
       "       [ 6, 16, 26, 36, 46],\n",
       "       [ 7, 17, 27, 37, 47],\n",
       "       [ 8, 18, 28, 38, 48],\n",
       "       [ 9, 19, 29, 39, 49]])"
      ]
     },
     "execution_count": 7,
     "metadata": {},
     "output_type": "execute_result"
    }
   ],
   "source": [
    "D.T\n"
   ]
  },
  {
   "cell_type": "code",
   "execution_count": 9,
   "id": "28d6d2b2-e87f-4993-923b-ca0b9fb66a23",
   "metadata": {},
   "outputs": [],
   "source": [
    "import numpy.linalg as la"
   ]
  },
  {
   "cell_type": "code",
   "execution_count": 18,
   "id": "2d2a4bae-4cb5-402b-9a4a-91aae7c6a0eb",
   "metadata": {},
   "outputs": [
    {
     "name": "stdout",
     "output_type": "stream",
     "text": [
      "[[ -213.   440.  -175.]\n",
      " [  -30.   114.   -62.]\n",
      " [  485. -1097.   494.]]\n"
     ]
    }
   ],
   "source": [
    "E=np.round(la.inv(np.random.rand(3,3))*10)\n",
    "print(E)"
   ]
  },
  {
   "cell_type": "code",
   "execution_count": 15,
   "id": "16d45aee-5c3a-432d-b6d9-7c28e4088883",
   "metadata": {},
   "outputs": [],
   "source": [
    "D.sort(axis=0)"
   ]
  },
  {
   "cell_type": "code",
   "execution_count": 16,
   "id": "4db26cc4-1fa3-49ba-be55-191d5a664119",
   "metadata": {},
   "outputs": [
    {
     "name": "stdout",
     "output_type": "stream",
     "text": [
      "[[ 0  1  2  3  4  5  6  7  8  9]\n",
      " [10 11 12 13 14 15 16 17 18 19]\n",
      " [20 21 22 23 24 25 26 27 28 29]\n",
      " [30 31 32 33 34 35 36 37 38 39]\n",
      " [40 41 42 43 44 45 46 47 48 49]]\n"
     ]
    }
   ],
   "source": [
    "print(D)"
   ]
  },
  {
   "cell_type": "code",
   "execution_count": 19,
   "id": "a0223545-dd8e-453e-a553-532faa39ac4b",
   "metadata": {},
   "outputs": [],
   "source": [
    "D.sort(axis=1)"
   ]
  },
  {
   "cell_type": "code",
   "execution_count": 21,
   "id": "3ce5d9d3-a6c0-4fc2-b034-f4aa01fc9975",
   "metadata": {},
   "outputs": [
    {
     "name": "stdout",
     "output_type": "stream",
     "text": [
      "[[ 0  1  2  3  4  5  6  7  8  9]\n",
      " [10 11 12 13 14 15 16 17 18 19]\n",
      " [20 21 22 23 24 25 26 27 28 29]\n",
      " [30 31 32 33 34 35 36 37 38 39]\n",
      " [40 41 42 43 44 45 46 47 48 49]]\n"
     ]
    }
   ],
   "source": [
    "print(D)"
   ]
  },
  {
   "cell_type": "markdown",
   "id": "c032e11d-8670-4fa8-aa96-a126d30fe8ab",
   "metadata": {},
   "source": [
    "More on indexing in Numpy"
   ]
  },
  {
   "cell_type": "code",
   "execution_count": 22,
   "id": "fcc48f1a-4aaa-4b08-892f-0201e6b03107",
   "metadata": {},
   "outputs": [
    {
     "data": {
      "text/plain": [
       "array([[10, 11, 12, 13, 14, 15, 16, 17, 18, 19],\n",
       "       [20, 21, 22, 23, 24, 25, 26, 27, 28, 29],\n",
       "       [30, 31, 32, 33, 34, 35, 36, 37, 38, 39]])"
      ]
     },
     "execution_count": 22,
     "metadata": {},
     "output_type": "execute_result"
    }
   ],
   "source": [
    "D[[1,2,3]]   #it returns rhe first,second and the third row not the zeroth and the 4th row"
   ]
  },
  {
   "cell_type": "code",
   "execution_count": 23,
   "id": "58239536-81e0-4160-be6a-1808741342a6",
   "metadata": {},
   "outputs": [
    {
     "data": {
      "text/plain": [
       "array([[ 0,  1,  2,  3,  4,  5,  6,  7,  8,  9],\n",
       "       [10, 11, 12, 13, 14, 15, 16, 17, 18, 19],\n",
       "       [40, 41, 42, 43, 44, 45, 46, 47, 48, 49]])"
      ]
     },
     "execution_count": 23,
     "metadata": {},
     "output_type": "execute_result"
    }
   ],
   "source": [
    "D[[True,True,False,False,True]]  #it returns those rows which have the true value"
   ]
  },
  {
   "cell_type": "code",
   "execution_count": 24,
   "id": "af5b9872-3580-4112-8499-639522e3ebb4",
   "metadata": {},
   "outputs": [],
   "source": [
    "F=[1,2,3,4,5,6,7,8]\n"
   ]
  },
  {
   "cell_type": "code",
   "execution_count": 27,
   "id": "da51c7c3-a691-45ff-9e90-c82217cadafd",
   "metadata": {},
   "outputs": [
    {
     "name": "stdout",
     "output_type": "stream",
     "text": [
      "2\n"
     ]
    }
   ],
   "source": [
    "print(F[1])"
   ]
  },
  {
   "cell_type": "code",
   "execution_count": 28,
   "id": "ea9cc433-6f3a-46b9-be00-d8deb164562b",
   "metadata": {},
   "outputs": [
    {
     "data": {
      "text/plain": [
       "array([41, 42, 43, 44, 45, 46, 47, 48, 49])"
      ]
     },
     "execution_count": 28,
     "metadata": {},
     "output_type": "execute_result"
    }
   ],
   "source": [
    "D[D>40]"
   ]
  },
  {
   "cell_type": "code",
   "execution_count": 41,
   "id": "e56ab9c9-cf6e-494b-b714-9f4d11db4dcb",
   "metadata": {},
   "outputs": [
    {
     "data": {
      "text/plain": [
       "array([41, 42, 43, 44])"
      ]
     },
     "execution_count": 41,
     "metadata": {},
     "output_type": "execute_result"
    }
   ],
   "source": [
    "G=D[(D<45) & (D>40)]  #can use this but not the and keyword \n",
    "G"
   ]
  },
  {
   "cell_type": "markdown",
   "id": "c35b7fbc-a216-4a9f-bcd1-f8615b490b22",
   "metadata": {},
   "source": [
    "Broadcasting and concatenation\n"
   ]
  },
  {
   "cell_type": "code",
   "execution_count": 42,
   "id": "d9f9726f-be60-48ed-9ad5-f42ccc02d6bb",
   "metadata": {},
   "outputs": [
    {
     "data": {
      "text/plain": [
       "array([[ 0,  1,  2,  3,  4,  5,  6,  7,  8,  9],\n",
       "       [10, 11, 12, 13, 14, 15, 16, 17, 18, 19],\n",
       "       [20, 21, 22, 23, 24, 25, 26, 27, 28, 29],\n",
       "       [30, 31, 32, 33, 34, 35, 36, 37, 38, 39],\n",
       "       [40, 41, 42, 43, 44, 45, 46, 47, 48, 49]])"
      ]
     },
     "execution_count": 42,
     "metadata": {},
     "output_type": "execute_result"
    }
   ],
   "source": [
    "D"
   ]
  },
  {
   "cell_type": "code",
   "execution_count": 43,
   "id": "d78e645b-7cd6-4bf8-84d4-c150253ae6b6",
   "metadata": {},
   "outputs": [],
   "source": [
    "#multiply every element of D with 10"
   ]
  },
  {
   "cell_type": "code",
   "execution_count": 44,
   "id": "492caeea-d69c-4882-b2c9-fa69597bb947",
   "metadata": {},
   "outputs": [],
   "source": [
    "D=D*10  #this is known as broadcasting matching operation to all the elements of D"
   ]
  },
  {
   "cell_type": "code",
   "execution_count": 45,
   "id": "f31594ae-1e2d-4ecf-b2a7-01fcfa05d8a5",
   "metadata": {},
   "outputs": [
    {
     "data": {
      "text/plain": [
       "array([[  0,  10,  20,  30,  40,  50,  60,  70,  80,  90],\n",
       "       [100, 110, 120, 130, 140, 150, 160, 170, 180, 190],\n",
       "       [200, 210, 220, 230, 240, 250, 260, 270, 280, 290],\n",
       "       [300, 310, 320, 330, 340, 350, 360, 370, 380, 390],\n",
       "       [400, 410, 420, 430, 440, 450, 460, 470, 480, 490]])"
      ]
     },
     "execution_count": 45,
     "metadata": {},
     "output_type": "execute_result"
    }
   ],
   "source": [
    "D"
   ]
  },
  {
   "cell_type": "code",
   "execution_count": 46,
   "id": "9dc49f46-1621-4913-b064-73c3822030bd",
   "metadata": {},
   "outputs": [],
   "source": [
    "Mat1=np.round(10*np.random.rand(2,2))"
   ]
  },
  {
   "cell_type": "code",
   "execution_count": 52,
   "id": "771529a1-4f89-486b-b489-5387fe2e211f",
   "metadata": {},
   "outputs": [],
   "source": [
    "Mat2=np.round(10*np.random.rand(2,3))"
   ]
  },
  {
   "cell_type": "code",
   "execution_count": 49,
   "id": "430db6ab-a956-4637-9205-0070227c535c",
   "metadata": {},
   "outputs": [
    {
     "data": {
      "text/plain": [
       "array([[9., 6.],\n",
       "       [3., 9.]])"
      ]
     },
     "execution_count": 49,
     "metadata": {},
     "output_type": "execute_result"
    }
   ],
   "source": [
    "Mat1\n"
   ]
  },
  {
   "cell_type": "code",
   "execution_count": 53,
   "id": "8f43b206-ed11-4475-8088-bfaf9b1731a1",
   "metadata": {},
   "outputs": [
    {
     "data": {
      "text/plain": [
       "array([[4., 7., 1.],\n",
       "       [2., 3., 0.]])"
      ]
     },
     "execution_count": 53,
     "metadata": {},
     "output_type": "execute_result"
    }
   ],
   "source": [
    "Mat2"
   ]
  },
  {
   "cell_type": "code",
   "execution_count": 54,
   "id": "e2829121-1551-4c9e-8603-81e0d6cfa9b8",
   "metadata": {},
   "outputs": [],
   "source": [
    "HorizontalMat=np.hstack((Mat1,Mat2))"
   ]
  },
  {
   "cell_type": "code",
   "execution_count": 55,
   "id": "e57205c3-566f-40c7-b37f-3fb2bf937697",
   "metadata": {},
   "outputs": [
    {
     "data": {
      "text/plain": [
       "array([[9., 6., 4., 7., 1.],\n",
       "       [3., 9., 2., 3., 0.]])"
      ]
     },
     "execution_count": 55,
     "metadata": {},
     "output_type": "execute_result"
    }
   ],
   "source": [
    "HorizontalMat  #The rows will concatenate horizontally in this the rows of two matrix must be same"
   ]
  },
  {
   "cell_type": "code",
   "execution_count": 71,
   "id": "f93b4a0f-e398-48f6-8e20-966b06462e05",
   "metadata": {},
   "outputs": [],
   "source": [
    "#For vstack concatenation columns of both the matrix should be the same"
   ]
  },
  {
   "cell_type": "code",
   "execution_count": 57,
   "id": "e935cd6b-bad3-4e5e-93de-839c89f5d49e",
   "metadata": {},
   "outputs": [],
   "source": [
    "NewArr=np.random.permutation(np.arange(10))"
   ]
  },
  {
   "cell_type": "code",
   "execution_count": 64,
   "id": "da44a50d-d712-44a2-8d4b-24ae1b4beba3",
   "metadata": {},
   "outputs": [
    {
     "data": {
      "text/plain": [
       "array([0, 1, 2, 3, 4, 5, 6, 7, 8, 9])"
      ]
     },
     "execution_count": 64,
     "metadata": {},
     "output_type": "execute_result"
    }
   ],
   "source": [
    "NewArr=np.sort(NewArr)\n",
    "NewArr"
   ]
  },
  {
   "cell_type": "code",
   "execution_count": 65,
   "id": "fb1bd51a-8d4f-43f5-bea5-2d79932845a6",
   "metadata": {},
   "outputs": [],
   "source": [
    "#to sort in descending order\n",
    "NewArr=NewArr[::-1]"
   ]
  },
  {
   "cell_type": "code",
   "execution_count": 66,
   "id": "9511b5ae-77c3-4d20-a4cb-6ba0ec3c29e5",
   "metadata": {},
   "outputs": [
    {
     "data": {
      "text/plain": [
       "array([9, 8, 7, 6, 5, 4, 3, 2, 1, 0])"
      ]
     },
     "execution_count": 66,
     "metadata": {},
     "output_type": "execute_result"
    }
   ],
   "source": [
    "NewArr"
   ]
  },
  {
   "cell_type": "code",
   "execution_count": 72,
   "id": "085a3b0b-a7f2-4762-8c36-bafc98eec924",
   "metadata": {},
   "outputs": [
    {
     "name": "stdout",
     "output_type": "stream",
     "text": [
      "20.8 ms ± 1.37 ms per loop (mean ± std. dev. of 7 runs, 10 loops each)\n",
      "100 µs ± 2.94 µs per loop (mean ± std. dev. of 7 runs, 10,000 loops each)\n"
     ]
    }
   ],
   "source": [
    "B=np.random.rand(100000)\n",
    "%timeit sum(B)\n",
    "%timeit np.sum(B)"
   ]
  },
  {
   "cell_type": "code",
   "execution_count": null,
   "id": "b5ded681-1b16-4b7f-a35c-e5ccdd5ff9cc",
   "metadata": {},
   "outputs": [],
   "source": []
  }
 ],
 "metadata": {
  "kernelspec": {
   "display_name": "Python 3 (ipykernel)",
   "language": "python",
   "name": "python3"
  },
  "language_info": {
   "codemirror_mode": {
    "name": "ipython",
    "version": 3
   },
   "file_extension": ".py",
   "mimetype": "text/x-python",
   "name": "python",
   "nbconvert_exporter": "python",
   "pygments_lexer": "ipython3",
   "version": "3.11.7"
  }
 },
 "nbformat": 4,
 "nbformat_minor": 5
}
