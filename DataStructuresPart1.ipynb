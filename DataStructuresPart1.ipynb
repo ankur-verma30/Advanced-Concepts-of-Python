{
 "cells": [
  {
   "cell_type": "markdown",
   "id": "6bd8bb90-135c-4df1-92f5-2ee9c7114a1b",
   "metadata": {},
   "source": [
    "Escape Sequence in the String"
   ]
  },
  {
   "cell_type": "code",
   "execution_count": 1,
   "id": "f19d9d1f-8980-4a7e-bbfb-cedd2fff149a",
   "metadata": {},
   "outputs": [
    {
     "name": "stdout",
     "output_type": "stream",
     "text": [
      "We are here \"learning\" string\n"
     ]
    }
   ],
   "source": [
    "print(\"We are here \\\"learning\\\" string\")"
   ]
  },
  {
   "cell_type": "code",
   "execution_count": 2,
   "id": "6e61d438-2b98-4c81-b498-29c402e964e9",
   "metadata": {},
   "outputs": [
    {
     "name": "stdout",
     "output_type": "stream",
     "text": [
      "We are learning \n",
      " string\n"
     ]
    }
   ],
   "source": [
    "print(\"We are learning \\n string\")"
   ]
  },
  {
   "cell_type": "markdown",
   "id": "c747b89b-c076-4e55-a1e3-aad9871d5f4e",
   "metadata": {},
   "source": [
    "String treated as raw string"
   ]
  },
  {
   "cell_type": "code",
   "execution_count": 5,
   "id": "e5ec2804-b73d-44ad-ac68-65b40691a790",
   "metadata": {},
   "outputs": [
    {
     "name": "stdout",
     "output_type": "stream",
     "text": [
      "This is a \\n raw \\t string\n"
     ]
    }
   ],
   "source": [
    "print(r\"This is a \\n raw \\t string\")"
   ]
  },
  {
   "cell_type": "markdown",
   "id": "3248c557-86d1-411e-8f0f-94b433205ab2",
   "metadata": {},
   "source": [
    "Normally this string looks like"
   ]
  },
  {
   "cell_type": "code",
   "execution_count": 7,
   "id": "8f14a532-a6bf-459f-84ca-96c96822d8ff",
   "metadata": {},
   "outputs": [
    {
     "name": "stdout",
     "output_type": "stream",
     "text": [
      "This is a \t raw \n",
      " string\n"
     ]
    }
   ],
   "source": [
    "print(\"This is a \\t raw \\n string\")"
   ]
  },
  {
   "cell_type": "markdown",
   "id": "7fc02530-76a4-4183-81fc-606c9b3af648",
   "metadata": {},
   "source": [
    "Data Structures"
   ]
  },
  {
   "cell_type": "code",
   "execution_count": 9,
   "id": "72852d5e-82fc-4a06-82c0-4e5620590dfa",
   "metadata": {},
   "outputs": [],
   "source": [
    "L=[1,2,3.4,\"ankur\"]\n",
    "T=(1,2,3,4,\"verma\",4.8)\n",
    "S={1,2,3,4,5,6,6,7,433,4,3}\n",
    "d={\"firstName\":\"ankur\",\"lastName\":\"verma\"}"
   ]
  },
  {
   "cell_type": "code",
   "execution_count": 10,
   "id": "93092a1c-0b7d-4c7f-95f7-5cf170e08065",
   "metadata": {},
   "outputs": [
    {
     "name": "stdout",
     "output_type": "stream",
     "text": [
      "[1, 2, 3.4, 'ankur']\n",
      "(1, 2, 3, 4, 'verma', 4.8)\n",
      "{1, 2, 3, 4, 5, 6, 7, 433}\n",
      "{'firstName': 'ankur', 'lastName': 'verma'}\n",
      "The type of  <class 'list'>\n",
      "The type of  <class 'tuple'>\n",
      "The type of  <class 'set'>\n",
      "The type of  <class 'dict'>\n"
     ]
    }
   ],
   "source": [
    "print(L)\n",
    "print(T)\n",
    "print(S)\n",
    "print(d)\n",
    "print(\"The type of \", type(L))\n",
    "print(\"The type of \", type(T))\n",
    "print(\"The type of \", type(S))\n",
    "print(\"The type of \", type(d))"
   ]
  },
  {
   "cell_type": "markdown",
   "id": "337c5e2d-5d68-4248-91b8-bb13fdaa73cf",
   "metadata": {},
   "source": [
    "For checking element in the set"
   ]
  },
  {
   "cell_type": "code",
   "execution_count": 11,
   "id": "b0fd1af2-2b35-4cea-bd9f-0c9c4da7c53b",
   "metadata": {},
   "outputs": [
    {
     "name": "stdout",
     "output_type": "stream",
     "text": [
      "True\n"
     ]
    }
   ],
   "source": [
    "print(3 in S)"
   ]
  },
  {
   "cell_type": "code",
   "execution_count": 12,
   "id": "1ba0e102-a782-43d0-b09d-f0022b4db325",
   "metadata": {},
   "outputs": [
    {
     "name": "stdout",
     "output_type": "stream",
     "text": [
      "False\n"
     ]
    }
   ],
   "source": [
    "print(10 in S)"
   ]
  },
  {
   "cell_type": "code",
   "execution_count": 17,
   "id": "4a950608-0f8c-43f9-9dc1-ac10164dde7e",
   "metadata": {},
   "outputs": [
    {
     "name": "stdout",
     "output_type": "stream",
     "text": [
      "true\n"
     ]
    }
   ],
   "source": [
    "if L[1]==2:  # same for the tuple also but we cannot update the values\n",
    "    print(\"true\")\n",
    "else:\n",
    "    print(\"false\")    "
   ]
  },
  {
   "cell_type": "code",
   "execution_count": 16,
   "id": "78dbbed4-ac7e-4527-b8b9-4e5258aa5f05",
   "metadata": {},
   "outputs": [
    {
     "name": "stdout",
     "output_type": "stream",
     "text": [
      "ankur\n"
     ]
    }
   ],
   "source": [
    "print(d[\"firstName\"])"
   ]
  },
  {
   "cell_type": "code",
   "execution_count": 19,
   "id": "3dec7912-1616-4eeb-afde-ced2bdb4ff4e",
   "metadata": {},
   "outputs": [],
   "source": [
    "d1={\"age\":21}\n",
    "# d2=d+d1  cannot be concatenated"
   ]
  },
  {
   "cell_type": "code",
   "execution_count": null,
   "id": "90aa66cd-4838-41ca-9817-89a38ef4e9b5",
   "metadata": {},
   "outputs": [],
   "source": []
  }
 ],
 "metadata": {
  "kernelspec": {
   "display_name": "Python 3 (ipykernel)",
   "language": "python",
   "name": "python3"
  },
  "language_info": {
   "codemirror_mode": {
    "name": "ipython",
    "version": 3
   },
   "file_extension": ".py",
   "mimetype": "text/x-python",
   "name": "python",
   "nbconvert_exporter": "python",
   "pygments_lexer": "ipython3",
   "version": "3.11.7"
  }
 },
 "nbformat": 4,
 "nbformat_minor": 5
}
