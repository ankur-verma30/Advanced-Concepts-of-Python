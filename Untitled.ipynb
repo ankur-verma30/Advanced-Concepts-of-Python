{
 "cells": [
  {
   "cell_type": "markdown",
   "id": "2c52dcf4-23ac-4f1d-b13c-b0408e3ac61a",
   "metadata": {},
   "source": [
    "Functions and its features"
   ]
  },
  {
   "cell_type": "code",
   "execution_count": 3,
   "id": "df7231ab-d2d8-4ed3-bdda-905d69fc86df",
   "metadata": {},
   "outputs": [],
   "source": [
    "def add(*args):\n",
    "    sum=0\n",
    "    for i in range(len(args)):\n",
    "        sum+=args[i]\n",
    "        # i+=1  single step iteration is not required\n",
    "    return sum    "
   ]
  },
  {
   "cell_type": "code",
   "execution_count": 2,
   "id": "6807b252-4eed-4fc4-9da8-6f9655de86ce",
   "metadata": {},
   "outputs": [
    {
     "data": {
      "text/plain": [
       "45"
      ]
     },
     "execution_count": 2,
     "metadata": {},
     "output_type": "execute_result"
    }
   ],
   "source": [
    "add(2,3,4,5,6,7,8,9,1)"
   ]
  },
  {
   "cell_type": "code",
   "execution_count": 4,
   "id": "473e6c0e-00fc-4b9a-96fc-f79b408335dc",
   "metadata": {},
   "outputs": [
    {
     "data": {
      "text/plain": [
       "15"
      ]
     },
     "execution_count": 4,
     "metadata": {},
     "output_type": "execute_result"
    }
   ],
   "source": [
    "add(1,2,3,4,5)"
   ]
  },
  {
   "cell_type": "code",
   "execution_count": 8,
   "id": "65cf814e-ff1c-46e7-ab7e-916516c1e643",
   "metadata": {},
   "outputs": [],
   "source": [
    "def printNumber( n):\n",
    "    for i in range (0,n):\n",
    "        print(i+1)"
   ]
  },
  {
   "cell_type": "code",
   "execution_count": 9,
   "id": "051326bd-ffb7-478b-9cf1-bf81407e4034",
   "metadata": {},
   "outputs": [
    {
     "name": "stdout",
     "output_type": "stream",
     "text": [
      "1\n",
      "2\n",
      "3\n",
      "4\n",
      "5\n",
      "6\n"
     ]
    }
   ],
   "source": [
    "printNumber(6)"
   ]
  },
  {
   "cell_type": "code",
   "execution_count": 11,
   "id": "a824b032-d93c-4e4e-8099-c7faac68515a",
   "metadata": {},
   "outputs": [],
   "source": [
    "def printpairs(**C):\n",
    "    for x in C:\n",
    "        print(x,C[x])"
   ]
  },
  {
   "cell_type": "code",
   "execution_count": 12,
   "id": "92d90bec-40d0-4b6d-9d79-9bb66c99aace",
   "metadata": {},
   "outputs": [
    {
     "name": "stdout",
     "output_type": "stream",
     "text": [
      "A C1\n",
      "B C2\n"
     ]
    }
   ],
   "source": [
    "printpairs(A='C1',B=\"C2\")"
   ]
  },
  {
   "cell_type": "markdown",
   "id": "c17e51ec-6f51-4b72-a10e-1227a0a9c6c4",
   "metadata": {},
   "source": [
    "Find the minimum from the list and its position using function\n"
   ]
  },
  {
   "cell_type": "code",
   "execution_count": 13,
   "id": "7a18ee1c-efa1-4b26-8b1a-52cd64d061ff",
   "metadata": {},
   "outputs": [],
   "source": [
    "l=[1,2,3,4,5,6,7,65,33,22,13,1,4,3,0,3,545,6,3]\n",
    "\n"
   ]
  },
  {
   "cell_type": "code",
   "execution_count": 21,
   "id": "e3051e1a-b013-41d4-8c9e-8392cf642214",
   "metadata": {},
   "outputs": [],
   "source": [
    "def FindMin(l):\n",
    "    index=0\n",
    "    count=0\n",
    "    min=l[0]\n",
    "    for x in l:\n",
    "        if x<min:\n",
    "            min=x\n",
    "            index=count\n",
    "        count+=1    \n",
    "    return min, index"
   ]
  },
  {
   "cell_type": "code",
   "execution_count": 22,
   "id": "4ddf7b1e-f1c8-42a3-9406-2098e6d28f29",
   "metadata": {},
   "outputs": [
    {
     "name": "stdout",
     "output_type": "stream",
     "text": [
      "0 14\n"
     ]
    }
   ],
   "source": [
    "a,b=FindMin(l)\n",
    "print(a,b)"
   ]
  },
  {
   "cell_type": "code",
   "execution_count": null,
   "id": "3edafa4c-2de5-44cb-b00f-39f66453627f",
   "metadata": {},
   "outputs": [],
   "source": []
  }
 ],
 "metadata": {
  "kernelspec": {
   "display_name": "Python 3 (ipykernel)",
   "language": "python",
   "name": "python3"
  },
  "language_info": {
   "codemirror_mode": {
    "name": "ipython",
    "version": 3
   },
   "file_extension": ".py",
   "mimetype": "text/x-python",
   "name": "python",
   "nbconvert_exporter": "python",
   "pygments_lexer": "ipython3",
   "version": "3.11.7"
  }
 },
 "nbformat": 4,
 "nbformat_minor": 5
}
